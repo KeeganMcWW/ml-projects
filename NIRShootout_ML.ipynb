{
  "nbformat": 4,
  "nbformat_minor": 0,
  "metadata": {
    "colab": {
      "name": "NIRShootout_ML.ipynb",
      "provenance": [],
      "collapsed_sections": []
    },
    "kernelspec": {
      "name": "python3",
      "display_name": "Python 3"
    },
    "language_info": {
      "name": "python"
    }
  },
  "cells": [
    {
      "cell_type": "code",
      "metadata": {
        "id": "jJYF7BClrlfE"
      },
      "source": [
        "import scipy.io as sio\n",
        "import os\n",
        "import matplotlib.pyplot as plt\n",
        "import numpy as np\n",
        "\n",
        "from google.colab import files"
      ],
      "execution_count": 107,
      "outputs": []
    },
    {
      "cell_type": "code",
      "metadata": {
        "colab": {
          "base_uri": "https://localhost:8080/"
        },
        "id": "4rbztzABrqzi",
        "outputId": "f80f45c2-1863-4fae-e4e5-2660834cbd6a"
      },
      "source": [
        "machine_data_path = r'/content/data_files/'\n",
        "try:\n",
        "    os.mkdir(machine_data_path)\n",
        "except OSError:\n",
        "      print (\"Creation of the directory %s failed\" % machine_data_path)\n",
        "else:\n",
        "    print (\"Successfully created the directory %s \" % machine_data_path)"
      ],
      "execution_count": 108,
      "outputs": [
        {
          "output_type": "stream",
          "name": "stdout",
          "text": [
            "Creation of the directory /content/data_files/ failed\n"
          ]
        }
      ]
    },
    {
      "cell_type": "code",
      "metadata": {
        "colab": {
          "base_uri": "https://localhost:8080/"
        },
        "id": "G4cRioGesrCm",
        "outputId": "8507d593-ec97-44d0-db85-0b13ae3df19b"
      },
      "source": [
        "!wget https://eigenvector.com/wp-content/uploads/2019/06/nir_shootout_2002.mat_.zip"
      ],
      "execution_count": 109,
      "outputs": [
        {
          "output_type": "stream",
          "name": "stdout",
          "text": [
            "--2021-10-06 07:00:34--  https://eigenvector.com/wp-content/uploads/2019/06/nir_shootout_2002.mat_.zip\n",
            "Resolving eigenvector.com (eigenvector.com)... 69.163.163.60, 2607:f298:6:a034::eaf:812c\n",
            "Connecting to eigenvector.com (eigenvector.com)|69.163.163.60|:443... connected.\n",
            "HTTP request sent, awaiting response... 200 OK\n",
            "Length: 5414232 (5.2M) [application/zip]\n",
            "Saving to: ‘nir_shootout_2002.mat_.zip.2’\n",
            "\n",
            "nir_shootout_2002.m 100%[===================>]   5.16M  4.87MB/s    in 1.1s    \n",
            "\n",
            "2021-10-06 07:00:36 (4.87 MB/s) - ‘nir_shootout_2002.mat_.zip.2’ saved [5414232/5414232]\n",
            "\n"
          ]
        }
      ]
    },
    {
      "cell_type": "code",
      "metadata": {
        "colab": {
          "base_uri": "https://localhost:8080/"
        },
        "id": "mT5e5WhasqlE",
        "outputId": "d10d5649-2036-4f9e-c6b8-5fe39c2db29f"
      },
      "source": [
        "!unzip nir_shootout_2002.mat_.zip -d data_files"
      ],
      "execution_count": null,
      "outputs": [
        {
          "output_type": "stream",
          "name": "stdout",
          "text": [
            "Archive:  nir_shootout_2002.mat_.zip\n",
            "replace data_files/nir_shootout_2002.mat? [y]es, [n]o, [A]ll, [N]one, [r]ename: "
          ]
        }
      ]
    },
    {
      "cell_type": "code",
      "metadata": {
        "id": "mjUZD44qYhgb"
      },
      "source": [
        "# https://stackoverflow.com/questions/7008608/scipy-io-loadmat-nested-structures-i-e-dictionaries\n",
        "def loadmat(filename):\n",
        "    '''\n",
        "    this function should be called instead of direct spio.loadmat\n",
        "    as it cures the problem of not properly recovering python dictionaries\n",
        "    from mat files. It calls the function check keys to cure all entries\n",
        "    which are still mat-objects\n",
        "    '''\n",
        "    def _check_keys(d):\n",
        "        '''\n",
        "        checks if entries in dictionary are mat-objects. If yes\n",
        "        todict is called to change them to nested dictionaries\n",
        "        '''\n",
        "        for key in d:\n",
        "            if isinstance(d[key], spio.matlab.mio5_params.mat_struct):\n",
        "                d[key] = _todict(d[key])\n",
        "        return d\n",
        "\n",
        "    def _todict(matobj):\n",
        "        '''\n",
        "        A recursive function which constructs from matobjects nested dictionaries\n",
        "        '''\n",
        "        d = {}\n",
        "        for strg in matobj._fieldnames:\n",
        "            elem = matobj.__dict__[strg]\n",
        "            if isinstance(elem, spio.matlab.mio5_params.mat_struct):\n",
        "                d[strg] = _todict(elem)\n",
        "            elif isinstance(elem, np.ndarray):\n",
        "                d[strg] = _tolist(elem)\n",
        "            else:\n",
        "                d[strg] = elem\n",
        "        return d\n",
        "\n",
        "    def _tolist(ndarray):\n",
        "        '''\n",
        "        A recursive function which constructs lists from cellarrays\n",
        "        (which are loaded as numpy ndarrays), recursing into the elements\n",
        "        if they contain matobjects.\n",
        "        '''\n",
        "        elem_list = []\n",
        "        for sub_elem in ndarray:\n",
        "            if isinstance(sub_elem, spio.matlab.mio5_params.mat_struct):\n",
        "                elem_list.append(_todict(sub_elem))\n",
        "            elif isinstance(sub_elem, np.ndarray):\n",
        "                elem_list.append(_tolist(sub_elem))\n",
        "            else:\n",
        "                elem_list.append(sub_elem)\n",
        "        return elem_list\n",
        "    data = scipy.io.loadmat(filename, struct_as_record=False, squeeze_me=True)\n",
        "    return _check_keys(data)"
      ],
      "execution_count": null,
      "outputs": []
    },
    {
      "cell_type": "code",
      "metadata": {
        "id": "nfuR4L7Ssb2c"
      },
      "source": [
        "data_content = loadmat('/content/data_files/nir_shootout_2002.mat')"
      ],
      "execution_count": 101,
      "outputs": []
    },
    {
      "cell_type": "code",
      "metadata": {
        "colab": {
          "base_uri": "https://localhost:8080/"
        },
        "id": "Wa7q3yXS_fRk",
        "outputId": "6840e926-c7fd-46cf-bdaf-27f48d63d42c"
      },
      "source": [
        "print(sorted(data_content.keys()))"
      ],
      "execution_count": 102,
      "outputs": [
        {
          "output_type": "stream",
          "name": "stdout",
          "text": [
            "['__globals__', '__header__', '__version__', 'calibrate_1', 'calibrate_2', 'calibrate_Y', 'test_1', 'test_2', 'test_Y', 'validate_1', 'validate_2', 'validate_Y']\n"
          ]
        }
      ]
    },
    {
      "cell_type": "code",
      "metadata": {
        "id": "nEMpiWqxN6Zz"
      },
      "source": [
        "calibrate_1 = data_content['calibrate_1']"
      ],
      "execution_count": 103,
      "outputs": []
    },
    {
      "cell_type": "code",
      "metadata": {
        "colab": {
          "base_uri": "https://localhost:8080/"
        },
        "id": "iemgJ8NSQIt0",
        "outputId": "7b82d932-d147-4c24-e43e-29d1c405f8ee"
      },
      "source": [
        "calibrate_1"
      ],
      "execution_count": 104,
      "outputs": [
        {
          "output_type": "execute_result",
          "data": {
            "text/plain": [
              "{'author': array([], dtype=float64),\n",
              " 'axisscale': array([[array([], dtype=float64), array([], dtype=float64)],\n",
              "        [array([ 600,  602,  604,  606,  608,  610,  612,  614,  616,  618,  620,\n",
              "         622,  624,  626,  628,  630,  632,  634,  636,  638,  640,  642,\n",
              "         644,  646,  648,  650,  652,  654,  656,  658,  660,  662,  664,\n",
              "         666,  668,  670,  672,  674,  676,  678,  680,  682,  684,  686,\n",
              "         688,  690,  692,  694,  696,  698,  700,  702,  704,  706,  708,\n",
              "         710,  712,  714,  716,  718,  720,  722,  724,  726,  728,  730,\n",
              "         732,  734,  736,  738,  740,  742,  744,  746,  748,  750,  752,\n",
              "         754,  756,  758,  760,  762,  764,  766,  768,  770,  772,  774,\n",
              "         776,  778,  780,  782,  784,  786,  788,  790,  792,  794,  796,\n",
              "         798,  800,  802,  804,  806,  808,  810,  812,  814,  816,  818,\n",
              "         820,  822,  824,  826,  828,  830,  832,  834,  836,  838,  840,\n",
              "         842,  844,  846,  848,  850,  852,  854,  856,  858,  860,  862,\n",
              "         864,  866,  868,  870,  872,  874,  876,  878,  880,  882,  884,\n",
              "         886,  888,  890,  892,  894,  896,  898,  900,  902,  904,  906,\n",
              "         908,  910,  912,  914,  916,  918,  920,  922,  924,  926,  928,\n",
              "         930,  932,  934,  936,  938,  940,  942,  944,  946,  948,  950,\n",
              "         952,  954,  956,  958,  960,  962,  964,  966,  968,  970,  972,\n",
              "         974,  976,  978,  980,  982,  984,  986,  988,  990,  992,  994,\n",
              "         996,  998, 1000, 1002, 1004, 1006, 1008, 1010, 1012, 1014, 1016,\n",
              "        1018, 1020, 1022, 1024, 1026, 1028, 1030, 1032, 1034, 1036, 1038,\n",
              "        1040, 1042, 1044, 1046, 1048, 1050, 1052, 1054, 1056, 1058, 1060,\n",
              "        1062, 1064, 1066, 1068, 1070, 1072, 1074, 1076, 1078, 1080, 1082,\n",
              "        1084, 1086, 1088, 1090, 1092, 1094, 1096, 1098, 1100, 1102, 1104,\n",
              "        1106, 1108, 1110, 1112, 1114, 1116, 1118, 1120, 1122, 1124, 1126,\n",
              "        1128, 1130, 1132, 1134, 1136, 1138, 1140, 1142, 1144, 1146, 1148,\n",
              "        1150, 1152, 1154, 1156, 1158, 1160, 1162, 1164, 1166, 1168, 1170,\n",
              "        1172, 1174, 1176, 1178, 1180, 1182, 1184, 1186, 1188, 1190, 1192,\n",
              "        1194, 1196, 1198, 1200, 1202, 1204, 1206, 1208, 1210, 1212, 1214,\n",
              "        1216, 1218, 1220, 1222, 1224, 1226, 1228, 1230, 1232, 1234, 1236,\n",
              "        1238, 1240, 1242, 1244, 1246, 1248, 1250, 1252, 1254, 1256, 1258,\n",
              "        1260, 1262, 1264, 1266, 1268, 1270, 1272, 1274, 1276, 1278, 1280,\n",
              "        1282, 1284, 1286, 1288, 1290, 1292, 1294, 1296, 1298, 1300, 1302,\n",
              "        1304, 1306, 1308, 1310, 1312, 1314, 1316, 1318, 1320, 1322, 1324,\n",
              "        1326, 1328, 1330, 1332, 1334, 1336, 1338, 1340, 1342, 1344, 1346,\n",
              "        1348, 1350, 1352, 1354, 1356, 1358, 1360, 1362, 1364, 1366, 1368,\n",
              "        1370, 1372, 1374, 1376, 1378, 1380, 1382, 1384, 1386, 1388, 1390,\n",
              "        1392, 1394, 1396, 1398, 1400, 1402, 1404, 1406, 1408, 1410, 1412,\n",
              "        1414, 1416, 1418, 1420, 1422, 1424, 1426, 1428, 1430, 1432, 1434,\n",
              "        1436, 1438, 1440, 1442, 1444, 1446, 1448, 1450, 1452, 1454, 1456,\n",
              "        1458, 1460, 1462, 1464, 1466, 1468, 1470, 1472, 1474, 1476, 1478,\n",
              "        1480, 1482, 1484, 1486, 1488, 1490, 1492, 1494, 1496, 1498, 1500,\n",
              "        1502, 1504, 1506, 1508, 1510, 1512, 1514, 1516, 1518, 1520, 1522,\n",
              "        1524, 1526, 1528, 1530, 1532, 1534, 1536, 1538, 1540, 1542, 1544,\n",
              "        1546, 1548, 1550, 1552, 1554, 1556, 1558, 1560, 1562, 1564, 1566,\n",
              "        1568, 1570, 1572, 1574, 1576, 1578, 1580, 1582, 1584, 1586, 1588,\n",
              "        1590, 1592, 1594, 1596, 1598, 1600, 1602, 1604, 1606, 1608, 1610,\n",
              "        1612, 1614, 1616, 1618, 1620, 1622, 1624, 1626, 1628, 1630, 1632,\n",
              "        1634, 1636, 1638, 1640, 1642, 1644, 1646, 1648, 1650, 1652, 1654,\n",
              "        1656, 1658, 1660, 1662, 1664, 1666, 1668, 1670, 1672, 1674, 1676,\n",
              "        1678, 1680, 1682, 1684, 1686, 1688, 1690, 1692, 1694, 1696, 1698,\n",
              "        1700, 1702, 1704, 1706, 1708, 1710, 1712, 1714, 1716, 1718, 1720,\n",
              "        1722, 1724, 1726, 1728, 1730, 1732, 1734, 1736, 1738, 1740, 1742,\n",
              "        1744, 1746, 1748, 1750, 1752, 1754, 1756, 1758, 1760, 1762, 1764,\n",
              "        1766, 1768, 1770, 1772, 1774, 1776, 1778, 1780, 1782, 1784, 1786,\n",
              "        1788, 1790, 1792, 1794, 1796, 1798, 1800, 1802, 1804, 1806, 1808,\n",
              "        1810, 1812, 1814, 1816, 1818, 1820, 1822, 1824, 1826, 1828, 1830,\n",
              "        1832, 1834, 1836, 1838, 1840, 1842, 1844, 1846, 1848, 1850, 1852,\n",
              "        1854, 1856, 1858, 1860, 1862, 1864, 1866, 1868, 1870, 1872, 1874,\n",
              "        1876, 1878, 1880, 1882, 1884, 1886, 1888, 1890, 1892, 1894, 1896,\n",
              "        1898], dtype=uint16),\n",
              "         array([], dtype=float64)]], dtype=object),\n",
              " 'class': array([[array([], dtype=float64), array([], dtype=float64)],\n",
              "        [array([], dtype=float64), array([], dtype=float64)]], dtype=object),\n",
              " 'data': array([[3.222009, 3.220346, 3.222348, ..., 4.204217, 4.075395, 4.131819],\n",
              "        [3.189436, 3.187579, 3.192766, ..., 3.989309, 4.134958, 4.050876],\n",
              "        [3.255553, 3.249846, 3.25382 , ..., 4.14115 , 4.217447, 4.29589 ],\n",
              "        ...,\n",
              "        [3.137116, 3.140153, 3.145534, ..., 3.999109, 4.01044 , 3.892438],\n",
              "        [3.072321, 3.066933, 3.070206, ..., 3.915181, 3.837145, 3.848801],\n",
              "        [3.167674, 3.161052, 3.167373, ..., 4.085603, 4.141929, 3.97564 ]]),\n",
              " 'datasetversion': '3.03',\n",
              " 'date': array([2.0040000e+03, 6.0000000e+00, 2.0000000e+00, 1.2000000e+01,\n",
              "        5.9000000e+01, 1.5094375e+01]),\n",
              " 'description': array([], dtype=float64),\n",
              " 'history': 'calibrate_1.axisscale{2,1}=scl;   %class double 1x650',\n",
              " 'include': array([[array([  1,   2,   3,   4,   5,   6,   7,   8,   9,  10,  11,  12,  13,\n",
              "         14,  15,  16,  17,  18,  19,  20,  21,  22,  23,  24,  25,  26,\n",
              "         27,  28,  29,  30,  31,  32,  33,  34,  35,  36,  37,  38,  39,\n",
              "         40,  41,  42,  43,  44,  45,  46,  47,  48,  49,  50,  51,  52,\n",
              "         53,  54,  55,  56,  57,  58,  59,  60,  61,  62,  63,  64,  65,\n",
              "         66,  67,  68,  69,  70,  71,  72,  73,  74,  75,  76,  77,  78,\n",
              "         79,  80,  81,  82,  83,  84,  85,  86,  87,  88,  89,  90,  91,\n",
              "         92,  93,  94,  95,  96,  97,  98,  99, 100, 101, 102, 103, 104,\n",
              "        105, 106, 107, 108, 109, 110, 111, 112, 113, 114, 115, 116, 117,\n",
              "        118, 119, 120, 121, 122, 123, 124, 125, 126, 127, 128, 129, 130,\n",
              "        131, 132, 133, 134, 135, 136, 137, 138, 139, 140, 141, 142, 143,\n",
              "        144, 145, 146, 147, 148, 149, 150, 151, 152, 153, 154, 155],\n",
              "       dtype=uint8),\n",
              "         array([], dtype=float64)],\n",
              "        [array([  1,   2,   3,   4,   5,   6,   7,   8,   9,  10,  11,  12,  13,\n",
              "         14,  15,  16,  17,  18,  19,  20,  21,  22,  23,  24,  25,  26,\n",
              "         27,  28,  29,  30,  31,  32,  33,  34,  35,  36,  37,  38,  39,\n",
              "         40,  41,  42,  43,  44,  45,  46,  47,  48,  49,  50,  51,  52,\n",
              "         53,  54,  55,  56,  57,  58,  59,  60,  61,  62,  63,  64,  65,\n",
              "         66,  67,  68,  69,  70,  71,  72,  73,  74,  75,  76,  77,  78,\n",
              "         79,  80,  81,  82,  83,  84,  85,  86,  87,  88,  89,  90,  91,\n",
              "         92,  93,  94,  95,  96,  97,  98,  99, 100, 101, 102, 103, 104,\n",
              "        105, 106, 107, 108, 109, 110, 111, 112, 113, 114, 115, 116, 117,\n",
              "        118, 119, 120, 121, 122, 123, 124, 125, 126, 127, 128, 129, 130,\n",
              "        131, 132, 133, 134, 135, 136, 137, 138, 139, 140, 141, 142, 143,\n",
              "        144, 145, 146, 147, 148, 149, 150, 151, 152, 153, 154, 155, 156,\n",
              "        157, 158, 159, 160, 161, 162, 163, 164, 165, 166, 167, 168, 169,\n",
              "        170, 171, 172, 173, 174, 175, 176, 177, 178, 179, 180, 181, 182,\n",
              "        183, 184, 185, 186, 187, 188, 189, 190, 191, 192, 193, 194, 195,\n",
              "        196, 197, 198, 199, 200, 201, 202, 203, 204, 205, 206, 207, 208,\n",
              "        209, 210, 211, 212, 213, 214, 215, 216, 217, 218, 219, 220, 221,\n",
              "        222, 223, 224, 225, 226, 227, 228, 229, 230, 231, 232, 233, 234,\n",
              "        235, 236, 237, 238, 239, 240, 241, 242, 243, 244, 245, 246, 247,\n",
              "        248, 249, 250, 251, 252, 253, 254, 255, 256, 257, 258, 259, 260,\n",
              "        261, 262, 263, 264, 265, 266, 267, 268, 269, 270, 271, 272, 273,\n",
              "        274, 275, 276, 277, 278, 279, 280, 281, 282, 283, 284, 285, 286,\n",
              "        287, 288, 289, 290, 291, 292, 293, 294, 295, 296, 297, 298, 299,\n",
              "        300, 301, 302, 303, 304, 305, 306, 307, 308, 309, 310, 311, 312,\n",
              "        313, 314, 315, 316, 317, 318, 319, 320, 321, 322, 323, 324, 325,\n",
              "        326, 327, 328, 329, 330, 331, 332, 333, 334, 335, 336, 337, 338,\n",
              "        339, 340, 341, 342, 343, 344, 345, 346, 347, 348, 349, 350, 351,\n",
              "        352, 353, 354, 355, 356, 357, 358, 359, 360, 361, 362, 363, 364,\n",
              "        365, 366, 367, 368, 369, 370, 371, 372, 373, 374, 375, 376, 377,\n",
              "        378, 379, 380, 381, 382, 383, 384, 385, 386, 387, 388, 389, 390,\n",
              "        391, 392, 393, 394, 395, 396, 397, 398, 399, 400, 401, 402, 403,\n",
              "        404, 405, 406, 407, 408, 409, 410, 411, 412, 413, 414, 415, 416,\n",
              "        417, 418, 419, 420, 421, 422, 423, 424, 425, 426, 427, 428, 429,\n",
              "        430, 431, 432, 433, 434, 435, 436, 437, 438, 439, 440, 441, 442,\n",
              "        443, 444, 445, 446, 447, 448, 449, 450, 451, 452, 453, 454, 455,\n",
              "        456, 457, 458, 459, 460, 461, 462, 463, 464, 465, 466, 467, 468,\n",
              "        469, 470, 471, 472, 473, 474, 475, 476, 477, 478, 479, 480, 481,\n",
              "        482, 483, 484, 485, 486, 487, 488, 489, 490, 491, 492, 493, 494,\n",
              "        495, 496, 497, 498, 499, 500, 501, 502, 503, 504, 505, 506, 507,\n",
              "        508, 509, 510, 511, 512, 513, 514, 515, 516, 517, 518, 519, 520,\n",
              "        521, 522, 523, 524, 525, 526, 527, 528, 529, 530, 531, 532, 533,\n",
              "        534, 535, 536, 537, 538, 539, 540, 541, 542, 543, 544, 545, 546,\n",
              "        547, 548, 549, 550, 551, 552, 553, 554, 555, 556, 557, 558, 559,\n",
              "        560, 561, 562, 563, 564, 565, 566, 567, 568, 569, 570, 571, 572,\n",
              "        573, 574, 575, 576, 577, 578, 579, 580, 581, 582, 583, 584, 585,\n",
              "        586, 587, 588, 589, 590, 591, 592, 593, 594, 595, 596, 597, 598,\n",
              "        599, 600, 601, 602, 603, 604, 605, 606, 607, 608, 609, 610, 611,\n",
              "        612, 613, 614, 615, 616, 617, 618, 619, 620, 621, 622, 623, 624,\n",
              "        625, 626, 627, 628, 629, 630, 631, 632, 633, 634, 635, 636, 637,\n",
              "        638, 639, 640, 641, 642, 643, 644, 645, 646, 647, 648, 649, 650],\n",
              "       dtype=uint16),\n",
              "         array([], dtype=float64)]], dtype=object),\n",
              " 'label': array([[array([], dtype=float64), array([], dtype=float64)],\n",
              "        [array([], dtype=float64), array([], dtype=float64)]], dtype=object),\n",
              " 'moddate': array([2.0040000e+03, 6.0000000e+00, 2.0000000e+00, 1.2000000e+01,\n",
              "        5.9000000e+01, 1.5102094e+01]),\n",
              " 'name': array([], dtype=float64),\n",
              " 'title': array([[array([], dtype=float64), array([], dtype=float64)],\n",
              "        [array([], dtype=float64), array([], dtype=float64)]], dtype=object),\n",
              " 'type': 'data',\n",
              " 'userdata': array([], dtype=float64)}"
            ]
          },
          "metadata": {},
          "execution_count": 104
        }
      ]
    },
    {
      "cell_type": "code",
      "metadata": {
        "colab": {
          "base_uri": "https://localhost:8080/",
          "height": 165
        },
        "id": "A_YA75J3OBR2",
        "outputId": "0b24a338-8bbb-4d04-8ef7-e6fec589eac0"
      },
      "source": [
        "np.shape(calibrate_1['data'][0][0])"
      ],
      "execution_count": 93,
      "outputs": [
        {
          "output_type": "error",
          "ename": "TypeError",
          "evalue": "ignored",
          "traceback": [
            "\u001b[0;31m---------------------------------------------------------------------------\u001b[0m",
            "\u001b[0;31mTypeError\u001b[0m                                 Traceback (most recent call last)",
            "\u001b[0;32m<ipython-input-93-614c3dd2305b>\u001b[0m in \u001b[0;36m<module>\u001b[0;34m()\u001b[0m\n\u001b[0;32m----> 1\u001b[0;31m \u001b[0mnp\u001b[0m\u001b[0;34m.\u001b[0m\u001b[0mshape\u001b[0m\u001b[0;34m(\u001b[0m\u001b[0mcalibrate_1\u001b[0m\u001b[0;34m[\u001b[0m\u001b[0;34m'data'\u001b[0m\u001b[0;34m]\u001b[0m\u001b[0;34m[\u001b[0m\u001b[0;36m0\u001b[0m\u001b[0;34m]\u001b[0m\u001b[0;34m[\u001b[0m\u001b[0;36m0\u001b[0m\u001b[0;34m]\u001b[0m\u001b[0;34m)\u001b[0m\u001b[0;34m\u001b[0m\u001b[0;34m\u001b[0m\u001b[0m\n\u001b[0m",
            "\u001b[0;31mTypeError\u001b[0m: 'mat_struct' object is not subscriptable"
          ]
        }
      ]
    },
    {
      "cell_type": "code",
      "metadata": {
        "id": "d1E8nKsSX8GH",
        "colab": {
          "base_uri": "https://localhost:8080/"
        },
        "outputId": "5196dead-37e3-46f5-bba4-83cc88efbdae"
      },
      "source": [
        "np.shape(calibrate_1['axisscale'][0][0][1][0][0])"
      ],
      "execution_count": 84,
      "outputs": [
        {
          "output_type": "execute_result",
          "data": {
            "text/plain": [
              "(650,)"
            ]
          },
          "metadata": {},
          "execution_count": 84
        }
      ]
    },
    {
      "cell_type": "code",
      "metadata": {
        "colab": {
          "base_uri": "https://localhost:8080/",
          "height": 311
        },
        "id": "O3KDaCCOV8MO",
        "outputId": "b29af4cf-3e11-4973-e741-c6f07442e91b"
      },
      "source": [
        "scipy.io.loadmat(calibrate_1, appendmat=True)"
      ],
      "execution_count": 87,
      "outputs": [
        {
          "output_type": "error",
          "ename": "TypeError",
          "evalue": "ignored",
          "traceback": [
            "\u001b[0;31m---------------------------------------------------------------------------\u001b[0m",
            "\u001b[0;31mTypeError\u001b[0m                                 Traceback (most recent call last)",
            "\u001b[0;32m<ipython-input-87-a8d4fea329fa>\u001b[0m in \u001b[0;36m<module>\u001b[0;34m()\u001b[0m\n\u001b[0;32m----> 1\u001b[0;31m \u001b[0mscipy\u001b[0m\u001b[0;34m.\u001b[0m\u001b[0mio\u001b[0m\u001b[0;34m.\u001b[0m\u001b[0mloadmat\u001b[0m\u001b[0;34m(\u001b[0m\u001b[0mcalibrate_1\u001b[0m\u001b[0;34m,\u001b[0m \u001b[0mappendmat\u001b[0m\u001b[0;34m=\u001b[0m\u001b[0;32mTrue\u001b[0m\u001b[0;34m)\u001b[0m\u001b[0;34m\u001b[0m\u001b[0;34m\u001b[0m\u001b[0m\n\u001b[0m",
            "\u001b[0;32m/usr/local/lib/python3.7/dist-packages/scipy/io/matlab/mio.py\u001b[0m in \u001b[0;36mloadmat\u001b[0;34m(file_name, mdict, appendmat, **kwargs)\u001b[0m\n\u001b[1;32m    214\u001b[0m     \"\"\"\n\u001b[1;32m    215\u001b[0m     \u001b[0mvariable_names\u001b[0m \u001b[0;34m=\u001b[0m \u001b[0mkwargs\u001b[0m\u001b[0;34m.\u001b[0m\u001b[0mpop\u001b[0m\u001b[0;34m(\u001b[0m\u001b[0;34m'variable_names'\u001b[0m\u001b[0;34m,\u001b[0m \u001b[0;32mNone\u001b[0m\u001b[0;34m)\u001b[0m\u001b[0;34m\u001b[0m\u001b[0;34m\u001b[0m\u001b[0m\n\u001b[0;32m--> 216\u001b[0;31m     \u001b[0;32mwith\u001b[0m \u001b[0m_open_file_context\u001b[0m\u001b[0;34m(\u001b[0m\u001b[0mfile_name\u001b[0m\u001b[0;34m,\u001b[0m \u001b[0mappendmat\u001b[0m\u001b[0;34m)\u001b[0m \u001b[0;32mas\u001b[0m \u001b[0mf\u001b[0m\u001b[0;34m:\u001b[0m\u001b[0;34m\u001b[0m\u001b[0;34m\u001b[0m\u001b[0m\n\u001b[0m\u001b[1;32m    217\u001b[0m         \u001b[0mMR\u001b[0m\u001b[0;34m,\u001b[0m \u001b[0m_\u001b[0m \u001b[0;34m=\u001b[0m \u001b[0mmat_reader_factory\u001b[0m\u001b[0;34m(\u001b[0m\u001b[0mf\u001b[0m\u001b[0;34m,\u001b[0m \u001b[0;34m**\u001b[0m\u001b[0mkwargs\u001b[0m\u001b[0;34m)\u001b[0m\u001b[0;34m\u001b[0m\u001b[0;34m\u001b[0m\u001b[0m\n\u001b[1;32m    218\u001b[0m         \u001b[0mmatfile_dict\u001b[0m \u001b[0;34m=\u001b[0m \u001b[0mMR\u001b[0m\u001b[0;34m.\u001b[0m\u001b[0mget_variables\u001b[0m\u001b[0;34m(\u001b[0m\u001b[0mvariable_names\u001b[0m\u001b[0;34m)\u001b[0m\u001b[0;34m\u001b[0m\u001b[0;34m\u001b[0m\u001b[0m\n",
            "\u001b[0;32m/usr/lib/python3.7/contextlib.py\u001b[0m in \u001b[0;36m__enter__\u001b[0;34m(self)\u001b[0m\n\u001b[1;32m    110\u001b[0m         \u001b[0;32mdel\u001b[0m \u001b[0mself\u001b[0m\u001b[0;34m.\u001b[0m\u001b[0margs\u001b[0m\u001b[0;34m,\u001b[0m \u001b[0mself\u001b[0m\u001b[0;34m.\u001b[0m\u001b[0mkwds\u001b[0m\u001b[0;34m,\u001b[0m \u001b[0mself\u001b[0m\u001b[0;34m.\u001b[0m\u001b[0mfunc\u001b[0m\u001b[0;34m\u001b[0m\u001b[0;34m\u001b[0m\u001b[0m\n\u001b[1;32m    111\u001b[0m         \u001b[0;32mtry\u001b[0m\u001b[0;34m:\u001b[0m\u001b[0;34m\u001b[0m\u001b[0;34m\u001b[0m\u001b[0m\n\u001b[0;32m--> 112\u001b[0;31m             \u001b[0;32mreturn\u001b[0m \u001b[0mnext\u001b[0m\u001b[0;34m(\u001b[0m\u001b[0mself\u001b[0m\u001b[0;34m.\u001b[0m\u001b[0mgen\u001b[0m\u001b[0;34m)\u001b[0m\u001b[0;34m\u001b[0m\u001b[0;34m\u001b[0m\u001b[0m\n\u001b[0m\u001b[1;32m    113\u001b[0m         \u001b[0;32mexcept\u001b[0m \u001b[0mStopIteration\u001b[0m\u001b[0;34m:\u001b[0m\u001b[0;34m\u001b[0m\u001b[0;34m\u001b[0m\u001b[0m\n\u001b[1;32m    114\u001b[0m             \u001b[0;32mraise\u001b[0m \u001b[0mRuntimeError\u001b[0m\u001b[0;34m(\u001b[0m\u001b[0;34m\"generator didn't yield\"\u001b[0m\u001b[0;34m)\u001b[0m \u001b[0;32mfrom\u001b[0m \u001b[0;32mNone\u001b[0m\u001b[0;34m\u001b[0m\u001b[0;34m\u001b[0m\u001b[0m\n",
            "\u001b[0;32m/usr/local/lib/python3.7/dist-packages/scipy/io/matlab/mio.py\u001b[0m in \u001b[0;36m_open_file_context\u001b[0;34m(file_like, appendmat, mode)\u001b[0m\n\u001b[1;32m     17\u001b[0m \u001b[0;34m@\u001b[0m\u001b[0mcontextmanager\u001b[0m\u001b[0;34m\u001b[0m\u001b[0;34m\u001b[0m\u001b[0m\n\u001b[1;32m     18\u001b[0m \u001b[0;32mdef\u001b[0m \u001b[0m_open_file_context\u001b[0m\u001b[0;34m(\u001b[0m\u001b[0mfile_like\u001b[0m\u001b[0;34m,\u001b[0m \u001b[0mappendmat\u001b[0m\u001b[0;34m,\u001b[0m \u001b[0mmode\u001b[0m\u001b[0;34m=\u001b[0m\u001b[0;34m'rb'\u001b[0m\u001b[0;34m)\u001b[0m\u001b[0;34m:\u001b[0m\u001b[0;34m\u001b[0m\u001b[0;34m\u001b[0m\u001b[0m\n\u001b[0;32m---> 19\u001b[0;31m     \u001b[0mf\u001b[0m\u001b[0;34m,\u001b[0m \u001b[0mopened\u001b[0m \u001b[0;34m=\u001b[0m \u001b[0m_open_file\u001b[0m\u001b[0;34m(\u001b[0m\u001b[0mfile_like\u001b[0m\u001b[0;34m,\u001b[0m \u001b[0mappendmat\u001b[0m\u001b[0;34m,\u001b[0m \u001b[0mmode\u001b[0m\u001b[0;34m)\u001b[0m\u001b[0;34m\u001b[0m\u001b[0;34m\u001b[0m\u001b[0m\n\u001b[0m\u001b[1;32m     20\u001b[0m     \u001b[0;32myield\u001b[0m \u001b[0mf\u001b[0m\u001b[0;34m\u001b[0m\u001b[0;34m\u001b[0m\u001b[0m\n\u001b[1;32m     21\u001b[0m     \u001b[0;32mif\u001b[0m \u001b[0mopened\u001b[0m\u001b[0;34m:\u001b[0m\u001b[0;34m\u001b[0m\u001b[0;34m\u001b[0m\u001b[0m\n",
            "\u001b[0;32m/usr/local/lib/python3.7/dist-packages/scipy/io/matlab/mio.py\u001b[0m in \u001b[0;36m_open_file\u001b[0;34m(file_like, appendmat, mode)\u001b[0m\n\u001b[1;32m     37\u001b[0m \u001b[0;34m\u001b[0m\u001b[0m\n\u001b[1;32m     38\u001b[0m     \u001b[0;32mtry\u001b[0m\u001b[0;34m:\u001b[0m\u001b[0;34m\u001b[0m\u001b[0;34m\u001b[0m\u001b[0m\n\u001b[0;32m---> 39\u001b[0;31m         \u001b[0;32mreturn\u001b[0m \u001b[0mopen\u001b[0m\u001b[0;34m(\u001b[0m\u001b[0mfile_like\u001b[0m\u001b[0;34m,\u001b[0m \u001b[0mmode\u001b[0m\u001b[0;34m)\u001b[0m\u001b[0;34m,\u001b[0m \u001b[0;32mTrue\u001b[0m\u001b[0;34m\u001b[0m\u001b[0;34m\u001b[0m\u001b[0m\n\u001b[0m\u001b[1;32m     40\u001b[0m     \u001b[0;32mexcept\u001b[0m \u001b[0mIOError\u001b[0m\u001b[0;34m:\u001b[0m\u001b[0;34m\u001b[0m\u001b[0;34m\u001b[0m\u001b[0m\n\u001b[1;32m     41\u001b[0m         \u001b[0;31m# Probably \"not found\"\u001b[0m\u001b[0;34m\u001b[0m\u001b[0;34m\u001b[0m\u001b[0;34m\u001b[0m\u001b[0m\n",
            "\u001b[0;31mTypeError\u001b[0m: expected str, bytes or os.PathLike object, not MatlabObject"
          ]
        }
      ]
    },
    {
      "cell_type": "code",
      "metadata": {
        "id": "ACCFdeg2Wg-W"
      },
      "source": [
        ""
      ],
      "execution_count": null,
      "outputs": []
    }
  ]
}