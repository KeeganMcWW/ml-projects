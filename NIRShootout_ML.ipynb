{
  "nbformat": 4,
  "nbformat_minor": 0,
  "metadata": {
    "colab": {
      "name": "NIRShootout_ML.ipynb",
      "provenance": [],
      "collapsed_sections": []
    },
    "kernelspec": {
      "name": "python3",
      "display_name": "Python 3"
    },
    "language_info": {
      "name": "python"
    }
  },
  "cells": [
    {
      "cell_type": "code",
      "metadata": {
        "id": "jJYF7BClrlfE"
      },
      "source": [
        "import scipy.io as sio\n",
        "import os\n",
        "import matplotlib.pyplot as plt\n",
        "import numpy as np\n",
        "\n",
        "from google.colab import files"
      ],
      "execution_count": 1,
      "outputs": []
    },
    {
      "cell_type": "code",
      "metadata": {
        "colab": {
          "base_uri": "https://localhost:8080/"
        },
        "id": "4rbztzABrqzi",
        "outputId": "41b9dfbe-c1dd-4465-80ec-9da1be5d7762"
      },
      "source": [
        "machine_data_path = r'/content/data_files/'\n",
        "try:\n",
        "    os.mkdir(machine_data_path)\n",
        "except OSError:\n",
        "      print (\"Creation of the directory %s failed\" % machine_data_path)\n",
        "else:\n",
        "    print (\"Successfully created the directory %s \" % machine_data_path)"
      ],
      "execution_count": 2,
      "outputs": [
        {
          "output_type": "stream",
          "name": "stdout",
          "text": [
            "Successfully created the directory /content/data_files/ \n"
          ]
        }
      ]
    },
    {
      "cell_type": "code",
      "metadata": {
        "colab": {
          "base_uri": "https://localhost:8080/"
        },
        "id": "G4cRioGesrCm",
        "outputId": "158df2be-eaf2-4146-e8e8-774a3a58d087"
      },
      "source": [
        "!wget https://eigenvector.com/wp-content/uploads/2019/06/nir_shootout_2002.mat_.zip"
      ],
      "execution_count": 3,
      "outputs": [
        {
          "output_type": "stream",
          "name": "stdout",
          "text": [
            "--2021-10-06 07:03:33--  https://eigenvector.com/wp-content/uploads/2019/06/nir_shootout_2002.mat_.zip\n",
            "Resolving eigenvector.com (eigenvector.com)... 69.163.163.60, 2607:f298:6:a034::eaf:812c\n",
            "Connecting to eigenvector.com (eigenvector.com)|69.163.163.60|:443... connected.\n",
            "HTTP request sent, awaiting response... 200 OK\n",
            "Length: 5414232 (5.2M) [application/zip]\n",
            "Saving to: ‘nir_shootout_2002.mat_.zip’\n",
            "\n",
            "nir_shootout_2002.m 100%[===================>]   5.16M  8.63MB/s    in 0.6s    \n",
            "\n",
            "2021-10-06 07:03:34 (8.63 MB/s) - ‘nir_shootout_2002.mat_.zip’ saved [5414232/5414232]\n",
            "\n"
          ]
        }
      ]
    },
    {
      "cell_type": "code",
      "metadata": {
        "colab": {
          "base_uri": "https://localhost:8080/"
        },
        "id": "mT5e5WhasqlE",
        "outputId": "81a6b108-7fc1-4bd4-dbf0-6048bef14de5"
      },
      "source": [
        "!unzip nir_shootout_2002.mat_.zip -d data_files"
      ],
      "execution_count": 4,
      "outputs": [
        {
          "output_type": "stream",
          "name": "stdout",
          "text": [
            "Archive:  nir_shootout_2002.mat_.zip\n",
            "  inflating: data_files/nir_shootout_2002.mat  \n",
            "   creating: data_files/__MACOSX/\n",
            "  inflating: data_files/__MACOSX/._nir_shootout_2002.mat  \n"
          ]
        }
      ]
    },
    {
      "cell_type": "code",
      "metadata": {
        "id": "mjUZD44qYhgb"
      },
      "source": [
        "# https://stackoverflow.com/questions/7008608/scipy-io-loadmat-nested-structures-i-e-dictionaries\n",
        "def loadmat(filename):\n",
        "    '''\n",
        "    this function should be called instead of direct spio.loadmat\n",
        "    as it cures the problem of not properly recovering python dictionaries\n",
        "    from mat files. It calls the function check keys to cure all entries\n",
        "    which are still mat-objects\n",
        "    '''\n",
        "    def _check_keys(d):\n",
        "        '''\n",
        "        checks if entries in dictionary are mat-objects. If yes\n",
        "        todict is called to change them to nested dictionaries\n",
        "        '''\n",
        "        for key in d:\n",
        "            if isinstance(d[key], sio.matlab.mio5_params.mat_struct):\n",
        "                d[key] = _todict(d[key])\n",
        "        return d\n",
        "\n",
        "    def _todict(matobj):\n",
        "        '''\n",
        "        A recursive function which constructs from matobjects nested dictionaries\n",
        "        '''\n",
        "        d = {}\n",
        "        for strg in matobj._fieldnames:\n",
        "            elem = matobj.__dict__[strg]\n",
        "            if isinstance(elem, sio.matlab.mio5_params.mat_struct):\n",
        "                d[strg] = _todict(elem)\n",
        "            elif isinstance(elem, np.ndarray):\n",
        "                d[strg] = _tolist(elem)\n",
        "            else:\n",
        "                d[strg] = elem\n",
        "        return d\n",
        "\n",
        "    def _tolist(ndarray):\n",
        "        '''\n",
        "        A recursive function which constructs lists from cellarrays\n",
        "        (which are loaded as numpy ndarrays), recursing into the elements\n",
        "        if they contain matobjects.\n",
        "        '''\n",
        "        elem_list = []\n",
        "        for sub_elem in ndarray:\n",
        "            if isinstance(sub_elem, sio.matlab.mio5_params.mat_struct):\n",
        "                elem_list.append(_todict(sub_elem))\n",
        "            elif isinstance(sub_elem, np.ndarray):\n",
        "                elem_list.append(_tolist(sub_elem))\n",
        "            else:\n",
        "                elem_list.append(sub_elem)\n",
        "        return elem_list\n",
        "    data = sio.loadmat(filename, struct_as_record=False, squeeze_me=True)\n",
        "    return _check_keys(data)"
      ],
      "execution_count": 7,
      "outputs": []
    },
    {
      "cell_type": "code",
      "metadata": {
        "id": "nfuR4L7Ssb2c"
      },
      "source": [
        "data_content = loadmat('/content/data_files/nir_shootout_2002.mat')"
      ],
      "execution_count": 8,
      "outputs": []
    },
    {
      "cell_type": "code",
      "metadata": {
        "colab": {
          "base_uri": "https://localhost:8080/"
        },
        "id": "Wa7q3yXS_fRk",
        "outputId": "47e5a6af-0607-457f-8946-fae50e27db87"
      },
      "source": [
        "data_content.keys()"
      ],
      "execution_count": 14,
      "outputs": [
        {
          "output_type": "execute_result",
          "data": {
            "text/plain": [
              "dict_keys(['__header__', '__version__', '__globals__', 'calibrate_1', 'calibrate_2', 'test_1', 'test_2', 'validate_1', 'validate_2', 'calibrate_Y', 'test_Y', 'validate_Y'])"
            ]
          },
          "metadata": {},
          "execution_count": 14
        }
      ]
    },
    {
      "cell_type": "code",
      "metadata": {
        "id": "nEMpiWqxN6Zz"
      },
      "source": [
        "calibrate_1 = data_content['calibrate_1']"
      ],
      "execution_count": 15,
      "outputs": []
    },
    {
      "cell_type": "code",
      "metadata": {
        "colab": {
          "base_uri": "https://localhost:8080/"
        },
        "id": "iemgJ8NSQIt0",
        "outputId": "845a29f8-753e-43e1-e084-60db5869e8a5"
      },
      "source": [
        "calibrate_1.keys()"
      ],
      "execution_count": 17,
      "outputs": [
        {
          "output_type": "execute_result",
          "data": {
            "text/plain": [
              "dict_keys(['name', 'type', 'author', 'date', 'moddate', 'data', 'label', 'axisscale', 'title', 'class', 'include', 'description', 'userdata', 'datasetversion', 'history'])"
            ]
          },
          "metadata": {},
          "execution_count": 17
        }
      ]
    },
    {
      "cell_type": "code",
      "metadata": {
        "colab": {
          "base_uri": "https://localhost:8080/"
        },
        "id": "A_YA75J3OBR2",
        "outputId": "f81b22b1-0e08-43eb-916e-645d4c6d7e15"
      },
      "source": [
        "np.shape(calibrate_1['data'])"
      ],
      "execution_count": 25,
      "outputs": [
        {
          "output_type": "execute_result",
          "data": {
            "text/plain": [
              "(155, 650)"
            ]
          },
          "metadata": {},
          "execution_count": 25
        }
      ]
    },
    {
      "cell_type": "code",
      "metadata": {
        "id": "ACCFdeg2Wg-W"
      },
      "source": [
        ""
      ],
      "execution_count": null,
      "outputs": []
    }
  ]
}