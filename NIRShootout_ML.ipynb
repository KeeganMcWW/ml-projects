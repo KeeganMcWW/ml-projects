{
  "nbformat": 4,
  "nbformat_minor": 0,
  "metadata": {
    "colab": {
      "name": "NIRShootout_ML.ipynb",
      "provenance": [],
      "collapsed_sections": []
    },
    "kernelspec": {
      "name": "python3",
      "display_name": "Python 3"
    },
    "language_info": {
      "name": "python"
    }
  },
  "cells": [
    {
      "cell_type": "code",
      "metadata": {
        "id": "jJYF7BClrlfE"
      },
      "source": [
        "import scipy.io\n",
        "import os\n",
        "import matplotlib.pyplot as plt\n",
        "import numpy as np\n",
        "\n",
        "from google.colab import files"
      ],
      "execution_count": 1,
      "outputs": []
    },
    {
      "cell_type": "code",
      "metadata": {
        "colab": {
          "base_uri": "https://localhost:8080/"
        },
        "id": "4rbztzABrqzi",
        "outputId": "8e6bd425-7e1c-4d3b-b885-4517fcc9f5f4"
      },
      "source": [
        "machine_data_path = r'/content/data_files/'\n",
        "try:\n",
        "    os.mkdir(machine_data_path)\n",
        "except OSError:\n",
        "      print (\"Creation of the directory %s failed\" % machine_data_path)\n",
        "else:\n",
        "    print (\"Successfully created the directory %s \" % machine_data_path)"
      ],
      "execution_count": 4,
      "outputs": [
        {
          "output_type": "stream",
          "name": "stdout",
          "text": [
            "Successfully created the directory /content/data_files/ \n"
          ]
        }
      ]
    },
    {
      "cell_type": "code",
      "metadata": {
        "colab": {
          "base_uri": "https://localhost:8080/"
        },
        "id": "G4cRioGesrCm",
        "outputId": "487ebe81-0663-4ff9-8c46-e112457ac4c5"
      },
      "source": [
        "!wget https://eigenvector.com/wp-content/uploads/2019/06/nir_shootout_2002.mat_.zip"
      ],
      "execution_count": 5,
      "outputs": [
        {
          "output_type": "stream",
          "name": "stdout",
          "text": [
            "--2021-10-06 06:04:37--  https://eigenvector.com/wp-content/uploads/2019/06/nir_shootout_2002.mat_.zip\n",
            "Resolving eigenvector.com (eigenvector.com)... 69.163.163.60, 2607:f298:6:a034::eaf:812c\n",
            "Connecting to eigenvector.com (eigenvector.com)|69.163.163.60|:443... connected.\n",
            "HTTP request sent, awaiting response... 200 OK\n",
            "Length: 5414232 (5.2M) [application/zip]\n",
            "Saving to: ‘nir_shootout_2002.mat_.zip’\n",
            "\n",
            "nir_shootout_2002.m 100%[===================>]   5.16M  4.96MB/s    in 1.0s    \n",
            "\n",
            "2021-10-06 06:04:39 (4.96 MB/s) - ‘nir_shootout_2002.mat_.zip’ saved [5414232/5414232]\n",
            "\n"
          ]
        }
      ]
    },
    {
      "cell_type": "code",
      "metadata": {
        "colab": {
          "base_uri": "https://localhost:8080/"
        },
        "id": "mT5e5WhasqlE",
        "outputId": "8c18c278-1238-4578-b2d0-bf830760669b"
      },
      "source": [
        "!unzip nir_shootout_2002.mat_.zip -d data_files"
      ],
      "execution_count": 6,
      "outputs": [
        {
          "output_type": "stream",
          "name": "stdout",
          "text": [
            "Archive:  nir_shootout_2002.mat_.zip\n",
            "  inflating: data_files/nir_shootout_2002.mat  \n",
            "   creating: data_files/__MACOSX/\n",
            "  inflating: data_files/__MACOSX/._nir_shootout_2002.mat  \n"
          ]
        }
      ]
    },
    {
      "cell_type": "code",
      "metadata": {
        "id": "nfuR4L7Ssb2c"
      },
      "source": [
        "data_content = scipy.io.loadmat('/content/data_files/nir_shootout_2002.mat')"
      ],
      "execution_count": 7,
      "outputs": []
    },
    {
      "cell_type": "code",
      "metadata": {
        "colab": {
          "base_uri": "https://localhost:8080/"
        },
        "id": "Wa7q3yXS_fRk",
        "outputId": "f9d6b160-bcaa-4caf-85b1-6bc98c8454af"
      },
      "source": [
        "print(sorted(data_content.keys()))"
      ],
      "execution_count": 8,
      "outputs": [
        {
          "output_type": "stream",
          "name": "stdout",
          "text": [
            "['__globals__', '__header__', '__version__', 'calibrate_1', 'calibrate_2', 'calibrate_Y', 'test_1', 'test_2', 'test_Y', 'validate_1', 'validate_2', 'validate_Y']\n"
          ]
        }
      ]
    },
    {
      "cell_type": "code",
      "metadata": {
        "id": "nEMpiWqxN6Zz"
      },
      "source": [
        "calibrate_1 = data_content['calibrate_1']"
      ],
      "execution_count": 39,
      "outputs": []
    },
    {
      "cell_type": "code",
      "metadata": {
        "colab": {
          "base_uri": "https://localhost:8080/"
        },
        "id": "iemgJ8NSQIt0",
        "outputId": "37393736-1860-4365-ebb6-0c3e63038137"
      },
      "source": [
        "calibrate_1.dtype"
      ],
      "execution_count": 51,
      "outputs": [
        {
          "output_type": "execute_result",
          "data": {
            "text/plain": [
              "dtype([('name', 'O'), ('type', 'O'), ('author', 'O'), ('date', 'O'), ('moddate', 'O'), ('data', 'O'), ('label', 'O'), ('axisscale', 'O'), ('title', 'O'), ('class', 'O'), ('include', 'O'), ('description', 'O'), ('userdata', 'O'), ('datasetversion', 'O'), ('history', 'O')])"
            ]
          },
          "metadata": {},
          "execution_count": 51
        }
      ]
    },
    {
      "cell_type": "code",
      "metadata": {
        "id": "A_YA75J3OBR2",
        "outputId": "567256a6-f222-4178-ba2b-94c4227808f7",
        "colab": {
          "base_uri": "https://localhost:8080/"
        }
      },
      "source": [
        "calibrate_1['date'][0][0]"
      ],
      "execution_count": 64,
      "outputs": [
        {
          "output_type": "execute_result",
          "data": {
            "text/plain": [
              "array([[2.0040000e+03, 6.0000000e+00, 2.0000000e+00, 1.2000000e+01,\n",
              "        5.9000000e+01, 1.5094375e+01]])"
            ]
          },
          "metadata": {},
          "execution_count": 64
        }
      ]
    },
    {
      "cell_type": "code",
      "metadata": {
        "id": "d1E8nKsSX8GH",
        "colab": {
          "base_uri": "https://localhost:8080/",
          "height": 318
        },
        "outputId": "2c431538-d1e0-4243-bd86-5ca84e9c0af7"
      },
      "source": [
        "wavelength = oes_data['wave_axis'][0,0][0].reshape((3,43))\n",
        "sample_spectrum = oes_data['calibration'][0,0][0][0][0].reshape((3,43))\n",
        "plt.plot(wavelength[0],sample_spectrum[0], 'r',\n",
        "         wavelength[1],sample_spectrum[1], 'b',\n",
        "         wavelength[2],sample_spectrum[2], 'g')"
      ],
      "execution_count": null,
      "outputs": [
        {
          "output_type": "execute_result",
          "data": {
            "text/plain": [
              "[<matplotlib.lines.Line2D at 0x7f329aa48bd0>,\n",
              " <matplotlib.lines.Line2D at 0x7f329aa48dd0>,\n",
              " <matplotlib.lines.Line2D at 0x7f329aa48f90>]"
            ]
          },
          "metadata": {},
          "execution_count": 92
        },
        {
          "output_type": "display_data",
          "data": {
            "image/png": "[encoded data removed]",
            "text/plain": [
              "<Figure size 432x288 with 1 Axes>"
            ]
          },
          "metadata": {
            "needs_background": "light"
          }
        }
      ]
    }
  ]
}