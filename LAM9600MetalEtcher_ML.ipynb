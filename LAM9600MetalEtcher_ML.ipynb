{
  "nbformat": 4,
  "nbformat_minor": 0,
  "metadata": {
    "colab": {
      "name": "LAM9600MetalEtcher_ML.ipynb",
      "provenance": [],
      "collapsed_sections": [],
      "authorship_tag": "ABX9TyN0U84LH9k9JvBCkO/BErZF",
      "include_colab_link": true
    },
    "kernelspec": {
      "name": "python3",
      "display_name": "Python 3"
    },
    "language_info": {
      "name": "python"
    }
  },
  "cells": [
    {
      "cell_type": "markdown",
      "metadata": {
        "id": "view-in-github",
        "colab_type": "text"
      },
      "source": [
        "<a href=\"https://colab.research.google.com/github/KeeganMcWW/ml-projects/blob/main/LAM9600MetalEtcher_ML.ipynb\" target=\"_parent\"><img src=\"https://colab.research.google.com/assets/colab-badge.svg\" alt=\"Open In Colab\"/></a>"
      ]
    },
    {
      "cell_type": "code",
      "metadata": {
        "id": "jJYF7BClrlfE"
      },
      "source": [
        "import scipy\n",
        "import os"
      ],
      "execution_count": 1,
      "outputs": []
    },
    {
      "cell_type": "code",
      "metadata": {
        "colab": {
          "base_uri": "https://localhost:8080/"
        },
        "id": "4rbztzABrqzi",
        "outputId": "df474500-5995-4d58-cc17-2e88c9f5d68a"
      },
      "source": [
        "data_path = r'/content/machine_data/'\n",
        "try:\n",
        "    os.mkdir(data_path)\n",
        "except OSError:\n",
        "      print (\"Creation of the directory %s failed\" % data_path)\n",
        "else:\n",
        "    print (\"Successfully created the directory %s \" % data_path)"
      ],
      "execution_count": 2,
      "outputs": [
        {
          "output_type": "stream",
          "text": [
            "Successfully created the directory /content/machine_data/ \n"
          ],
          "name": "stdout"
        }
      ]
    },
    {
      "cell_type": "code",
      "metadata": {
        "colab": {
          "base_uri": "https://localhost:8080/"
        },
        "id": "QyUOgHeQsORP",
        "outputId": "a9c5a297-9f53-4e34-b67c-bd1611221158"
      },
      "source": [
        "data_path = r'/content/oes_data/'\n",
        "try:\n",
        "    os.mkdir(data_path)\n",
        "except OSError:\n",
        "      print (\"Creation of the directory %s failed\" % data_path)\n",
        "else:\n",
        "    print (\"Successfully created the directory %s \" % data_path)"
      ],
      "execution_count": 3,
      "outputs": [
        {
          "output_type": "stream",
          "text": [
            "Successfully created the directory /content/oes_data/ \n"
          ],
          "name": "stdout"
        }
      ]
    },
    {
      "cell_type": "code",
      "metadata": {
        "colab": {
          "base_uri": "https://localhost:8080/"
        },
        "id": "mvxxrQFOsOHS",
        "outputId": "62343edc-3e40-4425-9536-fd7e11ac8584"
      },
      "source": [
        "data_path = r'/content/rfm_data/'\n",
        "try:\n",
        "    os.mkdir(data_path)\n",
        "except OSError:\n",
        "      print (\"Creation of the directory %s failed\" % data_path)\n",
        "else:\n",
        "    print (\"Successfully created the directory %s \" % data_path)"
      ],
      "execution_count": 4,
      "outputs": [
        {
          "output_type": "stream",
          "text": [
            "Successfully created the directory /content/rfm_data/ \n"
          ],
          "name": "stdout"
        }
      ]
    },
    {
      "cell_type": "code",
      "metadata": {
        "id": "G4cRioGesrCm"
      },
      "source": [
        ""
      ],
      "execution_count": null,
      "outputs": []
    },
    {
      "cell_type": "code",
      "metadata": {
        "id": "mT5e5WhasqlE"
      },
      "source": [
        ""
      ],
      "execution_count": null,
      "outputs": []
    },
    {
      "cell_type": "code",
      "metadata": {
        "id": "nfuR4L7Ssb2c"
      },
      "source": [
        "mat = scipy.io.loadmat('file.mat')"
      ],
      "execution_count": null,
      "outputs": []
    }
  ]
}