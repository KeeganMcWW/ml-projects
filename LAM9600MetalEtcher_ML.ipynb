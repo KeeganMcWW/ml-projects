{
  "nbformat": 4,
  "nbformat_minor": 0,
  "metadata": {
    "colab": {
      "name": "LAM9600MetalEtcher_ML.ipynb",
      "provenance": [],
      "collapsed_sections": [],
      "authorship_tag": "ABX9TyOwzd4uS6Htb/IVSeKIUHpx",
      "include_colab_link": true
    },
    "kernelspec": {
      "name": "python3",
      "display_name": "Python 3"
    },
    "language_info": {
      "name": "python"
    }
  },
  "cells": [
    {
      "cell_type": "markdown",
      "metadata": {
        "id": "view-in-github",
        "colab_type": "text"
      },
      "source": [
        "<a href=\"https://colab.research.google.com/github/KeeganMcWW/ml-projects/blob/main/LAM9600MetalEtcher_ML.ipynb\" target=\"_parent\"><img src=\"https://colab.research.google.com/assets/colab-badge.svg\" alt=\"Open In Colab\"/></a>"
      ]
    },
    {
      "cell_type": "code",
      "metadata": {
        "id": "jJYF7BClrlfE"
      },
      "source": [
        "import scipy.io\n",
        "import os\n",
        "\n",
        "from google.colab import files"
      ],
      "execution_count": 19,
      "outputs": []
    },
    {
      "cell_type": "code",
      "metadata": {
        "colab": {
          "base_uri": "https://localhost:8080/"
        },
        "id": "4rbztzABrqzi",
        "outputId": "b03e0a15-b94b-4853-aa39-a75253a5eeb4"
      },
      "source": [
        "machine_data_path = r'/content/machine_data_files/'\n",
        "try:\n",
        "    os.mkdir(data_path)\n",
        "except OSError:\n",
        "      print (\"Creation of the directory %s failed\" % data_path)\n",
        "else:\n",
        "    print (\"Successfully created the directory %s \" % data_path)"
      ],
      "execution_count": 13,
      "outputs": [
        {
          "output_type": "stream",
          "text": [
            "Creation of the directory /content/rfm_data/ failed\n"
          ],
          "name": "stdout"
        }
      ]
    },
    {
      "cell_type": "code",
      "metadata": {
        "colab": {
          "base_uri": "https://localhost:8080/"
        },
        "id": "QyUOgHeQsORP",
        "outputId": "c94a6c28-646c-44bc-a0b5-5f9644c48858"
      },
      "source": [
        "oes_data_path = r'/content/oes_data_files/'\n",
        "try:\n",
        "    os.mkdir(data_path)\n",
        "except OSError:\n",
        "      print (\"Creation of the directory %s failed\" % data_path)\n",
        "else:\n",
        "    print (\"Successfully created the directory %s \" % data_path)"
      ],
      "execution_count": 14,
      "outputs": [
        {
          "output_type": "stream",
          "text": [
            "Creation of the directory /content/rfm_data/ failed\n"
          ],
          "name": "stdout"
        }
      ]
    },
    {
      "cell_type": "code",
      "metadata": {
        "colab": {
          "base_uri": "https://localhost:8080/"
        },
        "id": "mvxxrQFOsOHS",
        "outputId": "a8985199-2816-4b68-92d6-f16f8e345a18"
      },
      "source": [
        "rfm_data_path = r'/content/rfm_data_files/'\n",
        "try:\n",
        "    os.mkdir(data_path)\n",
        "except OSError:\n",
        "      print (\"Creation of the directory %s failed\" % data_path)\n",
        "else:\n",
        "    print (\"Successfully created the directory %s \" % data_path)"
      ],
      "execution_count": 15,
      "outputs": [
        {
          "output_type": "stream",
          "text": [
            "Creation of the directory /content/rfm_data/ failed\n"
          ],
          "name": "stdout"
        }
      ]
    },
    {
      "cell_type": "code",
      "metadata": {
        "colab": {
          "base_uri": "https://localhost:8080/"
        },
        "id": "G4cRioGesrCm",
        "outputId": "8c500bda-1455-4963-cbe7-4ced78ce95f8"
      },
      "source": [
        "!wget https://eigenvector.com/wp-content/uploads/2019/06/MACHINE_Data.mat_.zip\n",
        "!wget https://eigenvector.com/wp-content/uploads/2019/06/OES_DATA.mat_.zip\n",
        "!wget https://eigenvector.com/wp-content/uploads/2019/06/RFM_DATA.mat_.zip"
      ],
      "execution_count": 16,
      "outputs": [
        {
          "output_type": "stream",
          "text": [
            "--2021-05-31 05:54:30--  https://eigenvector.com/wp-content/uploads/2019/06/MACHINE_Data.mat_.zip\n",
            "Resolving eigenvector.com (eigenvector.com)... 69.163.163.60\n",
            "Connecting to eigenvector.com (eigenvector.com)|69.163.163.60|:443... connected.\n",
            "HTTP request sent, awaiting response... 200 OK\n",
            "Length: 438002 (428K) [application/zip]\n",
            "Saving to: ‘MACHINE_Data.mat_.zip.1’\n",
            "\n",
            "MACHINE_Data.mat_.z 100%[===================>] 427.74K  1.36MB/s    in 0.3s    \n",
            "\n",
            "2021-05-31 05:54:31 (1.36 MB/s) - ‘MACHINE_Data.mat_.zip.1’ saved [438002/438002]\n",
            "\n",
            "--2021-05-31 05:54:31--  https://eigenvector.com/wp-content/uploads/2019/06/OES_DATA.mat_.zip\n",
            "Resolving eigenvector.com (eigenvector.com)... 69.163.163.60\n",
            "Connecting to eigenvector.com (eigenvector.com)|69.163.163.60|:443... connected.\n",
            "HTTP request sent, awaiting response... 200 OK\n",
            "Length: 1821555 (1.7M) [application/zip]\n",
            "Saving to: ‘OES_DATA.mat_.zip.1’\n",
            "\n",
            "OES_DATA.mat_.zip.1 100%[===================>]   1.74M  3.80MB/s    in 0.5s    \n",
            "\n",
            "2021-05-31 05:54:32 (3.80 MB/s) - ‘OES_DATA.mat_.zip.1’ saved [1821555/1821555]\n",
            "\n",
            "--2021-05-31 05:54:32--  https://eigenvector.com/wp-content/uploads/2019/06/RFM_DATA.mat_.zip\n",
            "Resolving eigenvector.com (eigenvector.com)... 69.163.163.60\n",
            "Connecting to eigenvector.com (eigenvector.com)|69.163.163.60|:443... connected.\n",
            "HTTP request sent, awaiting response... 200 OK\n",
            "Length: 794537 (776K) [application/zip]\n",
            "Saving to: ‘RFM_DATA.mat_.zip.1’\n",
            "\n",
            "RFM_DATA.mat_.zip.1 100%[===================>] 775.92K  1.98MB/s    in 0.4s    \n",
            "\n",
            "2021-05-31 05:54:33 (1.98 MB/s) - ‘RFM_DATA.mat_.zip.1’ saved [794537/794537]\n",
            "\n"
          ],
          "name": "stdout"
        }
      ]
    },
    {
      "cell_type": "code",
      "metadata": {
        "colab": {
          "base_uri": "https://localhost:8080/"
        },
        "id": "mT5e5WhasqlE",
        "outputId": "5f97793d-222a-464f-e0f3-89c7db168b3c"
      },
      "source": [
        "!unzip MACHINE_Data.mat_.zip -d machine_data_files\n",
        "!unzip OES_DATA.mat_.zip -d oes_data_files\n",
        "!unzip RFM_DATA.mat_.zip -d rfm_data_files"
      ],
      "execution_count": 17,
      "outputs": [
        {
          "output_type": "stream",
          "text": [
            "Archive:  MACHINE_Data.mat_.zip\n",
            "  inflating: machine_data/MACHINE_Data.mat  \n",
            "   creating: machine_data/__MACOSX/\n",
            "  inflating: machine_data/__MACOSX/._MACHINE_Data.mat  \n",
            "Archive:  OES_DATA.mat_.zip\n",
            "  inflating: oes_data/OES_DATA.mat   \n",
            "   creating: oes_data/__MACOSX/\n",
            "  inflating: oes_data/__MACOSX/._OES_DATA.mat  \n",
            "Archive:  RFM_DATA.mat_.zip\n",
            "  inflating: rfm_data/RFM_DATA.mat   \n",
            "   creating: rfm_data/__MACOSX/\n",
            "  inflating: rfm_data/__MACOSX/._RFM_DATA.mat  \n"
          ],
          "name": "stdout"
        }
      ]
    },
    {
      "cell_type": "code",
      "metadata": {
        "id": "nfuR4L7Ssb2c"
      },
      "source": [
        "machine_content = scipy.io.loadmat('/content/machine_data/MACHINE_Data.mat')\n",
        "oes_content = scipy.io.loadmat('/content/oes_data/OES_DATA.mat')\n",
        "rfm_content = scipy.io.loadmat('/content/rfm_data/RFM_DATA.mat')"
      ],
      "execution_count": 66,
      "outputs": []
    },
    {
      "cell_type": "code",
      "metadata": {
        "colab": {
          "base_uri": "https://localhost:8080/"
        },
        "id": "Wa7q3yXS_fRk",
        "outputId": "17a9751a-3d48-4fdb-b13b-9b2766898e8b"
      },
      "source": [
        "print(sorted(machine_content.keys()))\n",
        "print(sorted(oes_content.keys()))\n",
        "print(sorted(rfm_content.keys()))"
      ],
      "execution_count": 67,
      "outputs": [
        {
          "output_type": "stream",
          "text": [
            "['LAMDATA', '__globals__', '__header__', '__version__']\n",
            "['OESDATA', '__globals__', '__header__', '__version__']\n",
            "['RFMDATA', '__globals__', '__header__', '__version__']\n"
          ],
          "name": "stdout"
        }
      ]
    },
    {
      "cell_type": "code",
      "metadata": {
        "colab": {
          "base_uri": "https://localhost:8080/"
        },
        "id": "XrfR7klBA1i6",
        "outputId": "f2c0b6c3-2350-440d-c62b-71ab8c149ff0"
      },
      "source": [
        "machine_data = machine_content['LAMDATA']\n",
        "machine_data.dtype"
      ],
      "execution_count": 75,
      "outputs": [
        {
          "output_type": "execute_result",
          "data": {
            "text/plain": [
              "dtype([('INFORMATION', 'O'), ('calibration', 'O'), ('calib_names', 'O'), ('test', 'O'), ('test_names', 'O'), ('fault_names', 'O'), ('variables', 'O')])"
            ]
          },
          "metadata": {
            "tags": []
          },
          "execution_count": 75
        }
      ]
    },
    {
      "cell_type": "code",
      "metadata": {
        "colab": {
          "base_uri": "https://localhost:8080/"
        },
        "id": "fdERAEB2BSHu",
        "outputId": "51bb1563-1762-442f-ae1e-c367c9de997a"
      },
      "source": [
        "print(machine_data['INFORMATION'][0,0])"
      ],
      "execution_count": 62,
      "outputs": [
        {
          "output_type": "stream",
          "text": [
            "['This data set consists of the engineering variables from a     '\n",
            " 'LAM 9600 Metal Etcher over the course of etching 129 wafers.   '\n",
            " 'The data consists of 108 normal wafers taken during 3          '\n",
            " 'experiments (numbers 29, 31 and 33) and 21 wafers with         '\n",
            " 'intentionally induced faults taken during the same experiments.'\n",
            " 'Note that the experiments were run several weeks apart and data'\n",
            " 'from different experiments has a different mean and somewhat   '\n",
            " 'different covariance structure. The experiment number is in the'\n",
            " 'name of the wafer in the calib_names and test_names fields,    '\n",
            " 'respectively.                                                  '\n",
            " '                                                               '\n",
            " 'For more information about this data set, please see:          '\n",
            " 'B.M. Wise, N.B. Gallagher, S.W. Butler, D.D. White, Jr. and    '\n",
            " 'G.G. Barna, \"A Comparison of Principal Components Analysis,    '\n",
            " 'Multi-way Principal Components Analysis, Tri-linear            '\n",
            " 'Decomposition and Parallel Factor Analysis for Fault Detection '\n",
            " 'in a Semiconductor Etch Process\", J. Chemometrics, in press,   '\n",
            " '1999                                                           '\n",
            " '                                                               '\n",
            " 'The specific fields in this structure array are described      '\n",
            " 'below:                                                         '\n",
            " '                                                               '\n",
            " '  INFORMATION: [ 29x63 char]  This field                       '\n",
            " '  calibration: {108x1  cell}  The normal or calibration wafers '\n",
            " '  calib_names: [108x9  char]  Names of the calibration wafers  '\n",
            " '         test: { 21x1  cell}  The test or faulty wafers        '\n",
            " '   test_names: [ 21x9  char]  Names of the test wafers         '\n",
            " '  fault_names: [ 21x9  char]  Names of the specific faults     '\n",
            " '    variables: [ 21x14 char]  Names of the variables           ']\n"
          ],
          "name": "stdout"
        }
      ]
    },
    {
      "cell_type": "code",
      "metadata": {
        "id": "_4W_SI3DBTUG"
      },
      "source": [
        ""
      ],
      "execution_count": null,
      "outputs": []
    }
  ]
}